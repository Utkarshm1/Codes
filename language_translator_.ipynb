{
  "nbformat": 4,
  "nbformat_minor": 0,
  "metadata": {
    "colab": {
      "provenance": []
    },
    "kernelspec": {
      "name": "python3",
      "display_name": "Python 3"
    },
    "language_info": {
      "name": "python"
    }
  },
  "cells": [
    {
      "cell_type": "markdown",
      "source": [
        "we started with intalling the required packages"
      ],
      "metadata": {
        "id": "-b4XHv-zeCeJ"
      }
    },
    {
      "cell_type": "code",
      "execution_count": 85,
      "metadata": {
        "colab": {
          "base_uri": "https://localhost:8080/",
          "height": 1000
        },
        "id": "kXMpKt4ydSsQ",
        "outputId": "bcd4d5e9-1a9f-418e-f4ad-d64bc46d3e39"
      },
      "outputs": [
        {
          "output_type": "stream",
          "name": "stdout",
          "text": [
            "Requirement already satisfied: gensim in /usr/local/lib/python3.10/dist-packages (4.3.3)\n",
            "Requirement already satisfied: nltk in /usr/local/lib/python3.10/dist-packages (3.8.1)\n",
            "Requirement already satisfied: deep-translator in /usr/local/lib/python3.10/dist-packages (1.11.4)\n",
            "Requirement already satisfied: numpy<2.0,>=1.18.5 in /usr/local/lib/python3.10/dist-packages (from gensim) (1.26.4)\n",
            "Requirement already satisfied: scipy<1.14.0,>=1.7.0 in /usr/local/lib/python3.10/dist-packages (from gensim) (1.13.1)\n",
            "Requirement already satisfied: smart-open>=1.8.1 in /usr/local/lib/python3.10/dist-packages (from gensim) (7.0.5)\n",
            "Requirement already satisfied: click in /usr/local/lib/python3.10/dist-packages (from nltk) (8.1.7)\n",
            "Requirement already satisfied: joblib in /usr/local/lib/python3.10/dist-packages (from nltk) (1.4.2)\n",
            "Requirement already satisfied: regex>=2021.8.3 in /usr/local/lib/python3.10/dist-packages (from nltk) (2024.9.11)\n",
            "Requirement already satisfied: tqdm in /usr/local/lib/python3.10/dist-packages (from nltk) (4.66.6)\n",
            "Requirement already satisfied: beautifulsoup4<5.0.0,>=4.9.1 in /usr/local/lib/python3.10/dist-packages (from deep-translator) (4.12.3)\n",
            "Requirement already satisfied: requests<3.0.0,>=2.23.0 in /usr/local/lib/python3.10/dist-packages (from deep-translator) (2.32.3)\n",
            "Requirement already satisfied: soupsieve>1.2 in /usr/local/lib/python3.10/dist-packages (from beautifulsoup4<5.0.0,>=4.9.1->deep-translator) (2.6)\n",
            "Requirement already satisfied: charset-normalizer<4,>=2 in /usr/local/lib/python3.10/dist-packages (from requests<3.0.0,>=2.23.0->deep-translator) (3.4.0)\n",
            "Requirement already satisfied: idna<4,>=2.5 in /usr/local/lib/python3.10/dist-packages (from requests<3.0.0,>=2.23.0->deep-translator) (3.10)\n",
            "Requirement already satisfied: urllib3<3,>=1.21.1 in /usr/local/lib/python3.10/dist-packages (from requests<3.0.0,>=2.23.0->deep-translator) (2.2.3)\n",
            "Requirement already satisfied: certifi>=2017.4.17 in /usr/local/lib/python3.10/dist-packages (from requests<3.0.0,>=2.23.0->deep-translator) (2024.8.30)\n",
            "Requirement already satisfied: wrapt in /usr/local/lib/python3.10/dist-packages (from smart-open>=1.8.1->gensim) (1.16.0)\n",
            "Requirement already satisfied: SpeechRecognition in /usr/local/lib/python3.10/dist-packages (3.11.0)\n",
            "Requirement already satisfied: requests>=2.26.0 in /usr/local/lib/python3.10/dist-packages (from SpeechRecognition) (2.32.3)\n",
            "Requirement already satisfied: typing-extensions in /usr/local/lib/python3.10/dist-packages (from SpeechRecognition) (4.12.2)\n",
            "Requirement already satisfied: charset-normalizer<4,>=2 in /usr/local/lib/python3.10/dist-packages (from requests>=2.26.0->SpeechRecognition) (3.4.0)\n",
            "Requirement already satisfied: idna<4,>=2.5 in /usr/local/lib/python3.10/dist-packages (from requests>=2.26.0->SpeechRecognition) (3.10)\n",
            "Requirement already satisfied: urllib3<3,>=1.21.1 in /usr/local/lib/python3.10/dist-packages (from requests>=2.26.0->SpeechRecognition) (2.2.3)\n",
            "Requirement already satisfied: certifi>=2017.4.17 in /usr/local/lib/python3.10/dist-packages (from requests>=2.26.0->SpeechRecognition) (2024.8.30)\n",
            "Requirement already satisfied: gTTS in /usr/local/lib/python3.10/dist-packages (2.5.4)\n",
            "Requirement already satisfied: requests<3,>=2.27 in /usr/local/lib/python3.10/dist-packages (from gTTS) (2.32.3)\n",
            "Requirement already satisfied: click<8.2,>=7.1 in /usr/local/lib/python3.10/dist-packages (from gTTS) (8.1.7)\n",
            "Requirement already satisfied: charset-normalizer<4,>=2 in /usr/local/lib/python3.10/dist-packages (from requests<3,>=2.27->gTTS) (3.4.0)\n",
            "Requirement already satisfied: idna<4,>=2.5 in /usr/local/lib/python3.10/dist-packages (from requests<3,>=2.27->gTTS) (3.10)\n",
            "Requirement already satisfied: urllib3<3,>=1.21.1 in /usr/local/lib/python3.10/dist-packages (from requests<3,>=2.27->gTTS) (2.2.3)\n",
            "Requirement already satisfied: certifi>=2017.4.17 in /usr/local/lib/python3.10/dist-packages (from requests<3,>=2.27->gTTS) (2024.8.30)\n",
            "Collecting google-cloud-speech\n",
            "  Downloading google_cloud_speech-2.28.0-py2.py3-none-any.whl.metadata (5.3 kB)\n",
            "Requirement already satisfied: google-api-core!=2.0.*,!=2.1.*,!=2.10.*,!=2.2.*,!=2.3.*,!=2.4.*,!=2.5.*,!=2.6.*,!=2.7.*,!=2.8.*,!=2.9.*,<3.0.0dev,>=1.34.1 in /usr/local/lib/python3.10/dist-packages (from google-api-core[grpc]!=2.0.*,!=2.1.*,!=2.10.*,!=2.2.*,!=2.3.*,!=2.4.*,!=2.5.*,!=2.6.*,!=2.7.*,!=2.8.*,!=2.9.*,<3.0.0dev,>=1.34.1->google-cloud-speech) (2.19.2)\n",
            "Requirement already satisfied: google-auth!=2.24.0,!=2.25.0,<3.0.0dev,>=2.14.1 in /usr/local/lib/python3.10/dist-packages (from google-cloud-speech) (2.27.0)\n",
            "Requirement already satisfied: proto-plus<2.0.0dev,>=1.22.3 in /usr/local/lib/python3.10/dist-packages (from google-cloud-speech) (1.25.0)\n",
            "Requirement already satisfied: protobuf!=4.21.0,!=4.21.1,!=4.21.2,!=4.21.3,!=4.21.4,!=4.21.5,<6.0.0dev,>=3.20.2 in /usr/local/lib/python3.10/dist-packages (from google-cloud-speech) (3.20.3)\n",
            "Requirement already satisfied: googleapis-common-protos<2.0.dev0,>=1.56.2 in /usr/local/lib/python3.10/dist-packages (from google-api-core!=2.0.*,!=2.1.*,!=2.10.*,!=2.2.*,!=2.3.*,!=2.4.*,!=2.5.*,!=2.6.*,!=2.7.*,!=2.8.*,!=2.9.*,<3.0.0dev,>=1.34.1->google-api-core[grpc]!=2.0.*,!=2.1.*,!=2.10.*,!=2.2.*,!=2.3.*,!=2.4.*,!=2.5.*,!=2.6.*,!=2.7.*,!=2.8.*,!=2.9.*,<3.0.0dev,>=1.34.1->google-cloud-speech) (1.65.0)\n",
            "Requirement already satisfied: requests<3.0.0.dev0,>=2.18.0 in /usr/local/lib/python3.10/dist-packages (from google-api-core!=2.0.*,!=2.1.*,!=2.10.*,!=2.2.*,!=2.3.*,!=2.4.*,!=2.5.*,!=2.6.*,!=2.7.*,!=2.8.*,!=2.9.*,<3.0.0dev,>=1.34.1->google-api-core[grpc]!=2.0.*,!=2.1.*,!=2.10.*,!=2.2.*,!=2.3.*,!=2.4.*,!=2.5.*,!=2.6.*,!=2.7.*,!=2.8.*,!=2.9.*,<3.0.0dev,>=1.34.1->google-cloud-speech) (2.32.3)\n",
            "Requirement already satisfied: grpcio<2.0dev,>=1.33.2 in /usr/local/lib/python3.10/dist-packages (from google-api-core[grpc]!=2.0.*,!=2.1.*,!=2.10.*,!=2.2.*,!=2.3.*,!=2.4.*,!=2.5.*,!=2.6.*,!=2.7.*,!=2.8.*,!=2.9.*,<3.0.0dev,>=1.34.1->google-cloud-speech) (1.64.1)\n",
            "Requirement already satisfied: grpcio-status<2.0.dev0,>=1.33.2 in /usr/local/lib/python3.10/dist-packages (from google-api-core[grpc]!=2.0.*,!=2.1.*,!=2.10.*,!=2.2.*,!=2.3.*,!=2.4.*,!=2.5.*,!=2.6.*,!=2.7.*,!=2.8.*,!=2.9.*,<3.0.0dev,>=1.34.1->google-cloud-speech) (1.48.2)\n",
            "Requirement already satisfied: cachetools<6.0,>=2.0.0 in /usr/local/lib/python3.10/dist-packages (from google-auth!=2.24.0,!=2.25.0,<3.0.0dev,>=2.14.1->google-cloud-speech) (5.5.0)\n",
            "Requirement already satisfied: pyasn1-modules>=0.2.1 in /usr/local/lib/python3.10/dist-packages (from google-auth!=2.24.0,!=2.25.0,<3.0.0dev,>=2.14.1->google-cloud-speech) (0.4.1)\n",
            "Requirement already satisfied: rsa<5,>=3.1.4 in /usr/local/lib/python3.10/dist-packages (from google-auth!=2.24.0,!=2.25.0,<3.0.0dev,>=2.14.1->google-cloud-speech) (4.9)\n",
            "Requirement already satisfied: pyasn1<0.7.0,>=0.4.6 in /usr/local/lib/python3.10/dist-packages (from pyasn1-modules>=0.2.1->google-auth!=2.24.0,!=2.25.0,<3.0.0dev,>=2.14.1->google-cloud-speech) (0.6.1)\n",
            "Requirement already satisfied: charset-normalizer<4,>=2 in /usr/local/lib/python3.10/dist-packages (from requests<3.0.0.dev0,>=2.18.0->google-api-core!=2.0.*,!=2.1.*,!=2.10.*,!=2.2.*,!=2.3.*,!=2.4.*,!=2.5.*,!=2.6.*,!=2.7.*,!=2.8.*,!=2.9.*,<3.0.0dev,>=1.34.1->google-api-core[grpc]!=2.0.*,!=2.1.*,!=2.10.*,!=2.2.*,!=2.3.*,!=2.4.*,!=2.5.*,!=2.6.*,!=2.7.*,!=2.8.*,!=2.9.*,<3.0.0dev,>=1.34.1->google-cloud-speech) (3.4.0)\n",
            "Requirement already satisfied: idna<4,>=2.5 in /usr/local/lib/python3.10/dist-packages (from requests<3.0.0.dev0,>=2.18.0->google-api-core!=2.0.*,!=2.1.*,!=2.10.*,!=2.2.*,!=2.3.*,!=2.4.*,!=2.5.*,!=2.6.*,!=2.7.*,!=2.8.*,!=2.9.*,<3.0.0dev,>=1.34.1->google-api-core[grpc]!=2.0.*,!=2.1.*,!=2.10.*,!=2.2.*,!=2.3.*,!=2.4.*,!=2.5.*,!=2.6.*,!=2.7.*,!=2.8.*,!=2.9.*,<3.0.0dev,>=1.34.1->google-cloud-speech) (3.10)\n",
            "Requirement already satisfied: urllib3<3,>=1.21.1 in /usr/local/lib/python3.10/dist-packages (from requests<3.0.0.dev0,>=2.18.0->google-api-core!=2.0.*,!=2.1.*,!=2.10.*,!=2.2.*,!=2.3.*,!=2.4.*,!=2.5.*,!=2.6.*,!=2.7.*,!=2.8.*,!=2.9.*,<3.0.0dev,>=1.34.1->google-api-core[grpc]!=2.0.*,!=2.1.*,!=2.10.*,!=2.2.*,!=2.3.*,!=2.4.*,!=2.5.*,!=2.6.*,!=2.7.*,!=2.8.*,!=2.9.*,<3.0.0dev,>=1.34.1->google-cloud-speech) (2.2.3)\n",
            "Requirement already satisfied: certifi>=2017.4.17 in /usr/local/lib/python3.10/dist-packages (from requests<3.0.0.dev0,>=2.18.0->google-api-core!=2.0.*,!=2.1.*,!=2.10.*,!=2.2.*,!=2.3.*,!=2.4.*,!=2.5.*,!=2.6.*,!=2.7.*,!=2.8.*,!=2.9.*,<3.0.0dev,>=1.34.1->google-api-core[grpc]!=2.0.*,!=2.1.*,!=2.10.*,!=2.2.*,!=2.3.*,!=2.4.*,!=2.5.*,!=2.6.*,!=2.7.*,!=2.8.*,!=2.9.*,<3.0.0dev,>=1.34.1->google-cloud-speech) (2024.8.30)\n",
            "Downloading google_cloud_speech-2.28.0-py2.py3-none-any.whl (305 kB)\n",
            "\u001b[2K   \u001b[90m━━━━━━━━━━━━━━━━━━━━━━━━━━━━━━━━━━━━━━━━\u001b[0m \u001b[32m305.9/305.9 kB\u001b[0m \u001b[31m7.0 MB/s\u001b[0m eta \u001b[36m0:00:00\u001b[0m\n",
            "\u001b[?25hInstalling collected packages: google-cloud-speech\n",
            "Successfully installed google-cloud-speech-2.28.0\n"
          ]
        },
        {
          "output_type": "display_data",
          "data": {
            "application/vnd.colab-display-data+json": {
              "pip_warning": {
                "packages": [
                  "google"
                ]
              },
              "id": "cdab6f6fe2f14f5b9b414ddd8653a041"
            }
          },
          "metadata": {}
        },
        {
          "output_type": "stream",
          "name": "stdout",
          "text": [
            "\u001b[33mWARNING: Requirement 'path_to_downloaded_wheel.whl' looks like a filename, but the file does not exist\u001b[0m\u001b[33m\n",
            "\u001b[0m\u001b[31mERROR: path_to_downloaded_wheel.whl is not a valid wheel filename.\u001b[0m\u001b[31m\n",
            "\u001b[0mRequirement already satisfied: pydub in /usr/local/lib/python3.10/dist-packages (0.25.1)\n",
            "\u001b[31mERROR: Could not find a version that satisfies the requirement portaudio (from versions: none)\u001b[0m\u001b[31m\n",
            "\u001b[0m\u001b[31mERROR: No matching distribution found for portaudio\u001b[0m\u001b[31m\n",
            "\u001b[0mRequirement already satisfied: SpeechRecognition in /usr/local/lib/python3.10/dist-packages (3.11.0)\n",
            "Collecting pyaudio\n",
            "  Using cached PyAudio-0.2.14.tar.gz (47 kB)\n",
            "  Installing build dependencies ... \u001b[?25l\u001b[?25hdone\n",
            "  Getting requirements to build wheel ... \u001b[?25l\u001b[?25hdone\n",
            "  Preparing metadata (pyproject.toml) ... \u001b[?25l\u001b[?25hdone\n",
            "Requirement already satisfied: requests>=2.26.0 in /usr/local/lib/python3.10/dist-packages (from SpeechRecognition) (2.32.3)\n",
            "Requirement already satisfied: typing-extensions in /usr/local/lib/python3.10/dist-packages (from SpeechRecognition) (4.12.2)\n",
            "Requirement already satisfied: charset-normalizer<4,>=2 in /usr/local/lib/python3.10/dist-packages (from requests>=2.26.0->SpeechRecognition) (3.4.0)\n",
            "Requirement already satisfied: idna<4,>=2.5 in /usr/local/lib/python3.10/dist-packages (from requests>=2.26.0->SpeechRecognition) (3.10)\n",
            "Requirement already satisfied: urllib3<3,>=1.21.1 in /usr/local/lib/python3.10/dist-packages (from requests>=2.26.0->SpeechRecognition) (2.2.3)\n",
            "Requirement already satisfied: certifi>=2017.4.17 in /usr/local/lib/python3.10/dist-packages (from requests>=2.26.0->SpeechRecognition) (2024.8.30)\n",
            "Building wheels for collected packages: pyaudio\n",
            "  \u001b[1;31merror\u001b[0m: \u001b[1msubprocess-exited-with-error\u001b[0m\n",
            "  \n",
            "  \u001b[31m×\u001b[0m \u001b[32mBuilding wheel for pyaudio \u001b[0m\u001b[1;32m(\u001b[0m\u001b[32mpyproject.toml\u001b[0m\u001b[1;32m)\u001b[0m did not run successfully.\n",
            "  \u001b[31m│\u001b[0m exit code: \u001b[1;36m1\u001b[0m\n",
            "  \u001b[31m╰─>\u001b[0m See above for output.\n",
            "  \n",
            "  \u001b[1;35mnote\u001b[0m: This error originates from a subprocess, and is likely not a problem with pip.\n",
            "  Building wheel for pyaudio (pyproject.toml) ... \u001b[?25l\u001b[?25herror\n",
            "\u001b[31m  ERROR: Failed building wheel for pyaudio\u001b[0m\u001b[31m\n",
            "\u001b[0mFailed to build pyaudio\n",
            "\u001b[31mERROR: ERROR: Failed to build installable wheels for some pyproject.toml based projects (pyaudio)\u001b[0m\u001b[31m\n",
            "\u001b[0m"
          ]
        }
      ],
      "source": [
        "!pip install gensim nltk deep-translator\n",
        "!pip install SpeechRecognition\n",
        "!pip install gTTS\n",
        "!pip install google-cloud-speech\n",
        "!pip install path_to_downloaded_wheel.whl\n",
        "!pip install pydub\n",
        "!pip install portaudio\n",
        "!pip install SpeechRecognition pyaudio"
      ]
    },
    {
      "cell_type": "code",
      "source": [
        "from gensim.models import Word2Vec\n",
        "from nltk.tokenize import word_tokenize\n",
        "from deep_translator import GoogleTranslator\n",
        "import nltk\n",
        "nltk.download('punkt')\n",
        "import speech_recognition as sr\n",
        "from gtts import gTTS\n",
        "import os\n",
        "from IPython.display import Audio, display\n",
        "from pydub import AudioSegment\n",
        "from pydub.playback import play\n",
        "\n",
        "\n",
        "recognizer = sr.Recognizer()\n",
        "\n",
        "# def transcribe_audio():\n",
        "#     with sr.Microphone() as source:\n",
        "#         print(\"Listening...\")\n",
        "#         audio = recognizer.listen(source)\n",
        "#         try:\n",
        "#             text = recognizer.recognize_google(audio)\n",
        "#             print(\"Recognized Text:\", text)\n",
        "#             return text\n",
        "#         except sr.UnknownValueError:\n",
        "#             print(\"Could not understand audio\")\n",
        "#             return None\n",
        "\n",
        "#word2Vec\n",
        "\n",
        "sample_sentences = [ \"live translator\"\n",
        "]\n",
        "\n",
        "tokenized_sentences = [word_tokenize(sentence.lower()) for sentence in sample_sentences]\n",
        "model = Word2Vec(sentences=tokenized_sentences, vector_size=100, window=5, min_count=1, workers=4)\n",
        "\n",
        "# Initialize the translator before defining or calling the function\n",
        "translator = GoogleTranslator(source='en', target='hi')  # Translate from English to French\n",
        "\n",
        "def translate_text(text):\n",
        "    # Tokenize input\n",
        "    tokens = word_tokenize(text.lower())\n",
        "\n",
        "    # Translate using GoogleTranslator\n",
        "    translated_text = translator.translate(text)\n",
        "\n",
        "    # Optional: Use Word2Vec embeddings to find synonyms for improved translation quality\n",
        "    refined_translation = []\n",
        "    for word in translated_text.split():\n",
        "        # Check if word has a vector in the Word2Vec model\n",
        "        if word in model.wv:\n",
        "            similar_words = model.wv.most_similar(word, topn=1)\n",
        "            refined_translation.append(similar_words[0][0])  # Append the most similar word\n",
        "        else:\n",
        "            refined_translation.append(word)\n",
        "\n",
        "    return \" \".join(refined_translation)\n",
        "\n",
        "\n",
        "\n"
      ],
      "metadata": {
        "colab": {
          "base_uri": "https://localhost:8080/"
        },
        "id": "JFKRWz5sdkWC",
        "outputId": "e8a6aa62-7474-4201-fe5f-3fadd69cb9c0"
      },
      "execution_count": 86,
      "outputs": [
        {
          "output_type": "stream",
          "name": "stderr",
          "text": [
            "[nltk_data] Downloading package punkt to /root/nltk_data...\n",
            "[nltk_data]   Package punkt is already up-to-date!\n"
          ]
        }
      ]
    },
    {
      "cell_type": "code",
      "source": [
        "\n",
        "text = input(\"Enter text to translate: \")\n",
        "print(\"Original:\", text)\n",
        "print(\"Translated:\", translate_text(text))\n",
        "\n",
        "\n",
        "def text_to_speech(text, language='hi'):\n",
        "  tts = gTTS(text=text, lang=language)\n",
        "  tts.save(\"translated_speech.mp3\")\n",
        "  os.system(\"mpg321 translated_speech.mp3\")\n",
        "def live_translation_session():\n",
        "    print(\"Starting live translation session...\")\n",
        "\n",
        "while True:\n",
        "        # # Step 1: Capture speech\n",
        "        # text = transcribe_audio()\n",
        "        # if text is None:\n",
        "        #     continue  # Skip if speech wasn't understood\n",
        "\n",
        "        # Step 2: Translate text\n",
        "        translated_text = translate_text(text)\n",
        "        print(\"Translated Text:\", translated_text)\n",
        "        break\n",
        "         # Skip if translation failed\n",
        "\n",
        "\n",
        "\n",
        "tts = gTTS(text = translate_text(text), lang='hi')\n",
        "tts.save(\"response.mp3\")\n",
        "\n",
        "# Display audio using a file path directly\n",
        "display(Audio(\"response.mp3\", autoplay=True))"
      ],
      "metadata": {
        "colab": {
          "base_uri": "https://localhost:8080/",
          "height": 146
        },
        "id": "_zUPNcvrer01",
        "outputId": "83e70f49-8d03-4810-c80f-51eef35ecd9e"
      },
      "execution_count": 90,
      "outputs": [
        {
          "output_type": "stream",
          "name": "stdout",
          "text": [
            "Enter text to translate: what is the purpose of life?\n",
            "Original: what is the purpose of life?\n",
            "Translated: जीवन का उद्देश्य क्या है?\n",
            "Translated Text: जीवन का उद्देश्य क्या है?\n"
          ]
        },
        {
          "output_type": "display_data",
          "data": {
            "text/plain": [
              "<IPython.lib.display.Audio object>"
            ],
            "text/html": [
              "\n",
              "                <audio  controls=\"controls\" autoplay=\"autoplay\">\n",
              "                    <source src=\"data:audio/mpeg;base64,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\" type=\"audio/mpeg\" />\n",
              "                    Your browser does not support the audio element.\n",
              "                </audio>\n",
              "              "
            ]
          },
          "metadata": {}
        }
      ]
    },
    {
      "cell_type": "code",
      "source": [],
      "metadata": {
        "id": "1eiP6RRedufY"
      },
      "execution_count": 90,
      "outputs": []
    },
    {
      "cell_type": "code",
      "source": [],
      "metadata": {
        "id": "Rp-7YQFNKrjC"
      },
      "execution_count": 81,
      "outputs": []
    },
    {
      "cell_type": "code",
      "source": [],
      "metadata": {
        "id": "5hfuiZxvOW-1"
      },
      "execution_count": 45,
      "outputs": []
    }
  ]
}